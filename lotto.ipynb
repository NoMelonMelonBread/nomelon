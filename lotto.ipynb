{
  "nbformat": 4,
  "nbformat_minor": 0,
  "metadata": {
    "colab": {
      "name": "Untitled0.ipynb",
      "provenance": [],
      "authorship_tag": "ABX9TyM6XRJ9zU13dyyuyIgxFynp",
      "include_colab_link": true
    },
    "kernelspec": {
      "name": "python3",
      "display_name": "Python 3"
    }
  },
  "cells": [
    {
      "cell_type": "markdown",
      "metadata": {
        "id": "view-in-github",
        "colab_type": "text"
      },
      "source": [
        "<a href=\"https://colab.research.google.com/github/NoMelonMelonBread/nomelon/blob/NoMelonMelonBread-inha-assignments/lotto.ipynb\" target=\"_parent\"><img src=\"https://colab.research.google.com/assets/colab-badge.svg\" alt=\"Open In Colab\"/></a>"
      ]
    },
    {
      "cell_type": "code",
      "metadata": {
        "colab": {
          "base_uri": "https://localhost:8080/"
        },
        "id": "Xjg-qE38Jx6P",
        "outputId": "8bc7e9a6-9360-4d7c-ad40-8d3b922bb9bf"
      },
      "source": [
        "from bs4 import BeautifulSoup\r\n",
        "import requests\r\n",
        "\r\n",
        "url = requests.get('https://search.naver.com/search.naver?where=nexearch&sm=top_hty&fbm=1&ie=utf8&query=%EB%A1%9C%EB%98%90').text\r\n",
        "html = BeautifulSoup(url)\r\n",
        "html\r\n",
        "\r\n",
        "current_number = int(html.find('a', attrs={'class':'_lotto-btn-current'}).find('em').text[:-1])\r\n",
        "current_number"
      ],
      "execution_count": 14,
      "outputs": [
        {
          "output_type": "execute_result",
          "data": {
            "text/plain": [
              "945"
            ]
          },
          "metadata": {
            "tags": []
          },
          "execution_count": 14
        }
      ]
    },
    {
      "cell_type": "code",
      "metadata": {
        "colab": {
          "base_uri": "https://localhost:8080/"
        },
        "id": "lmZdSkalLDLY",
        "outputId": "6edda4a7-eb9a-477d-b764-4476fbbd26fe"
      },
      "source": [
        "numbers = html.find('div', attrs={'class':'num_box'}).find_all('span')\r\n",
        "del numbers[6]\r\n",
        "\r\n",
        "box = []\r\n",
        "for i in numbers:\r\n",
        "  box.append(int(i.text))\r\n",
        "box"
      ],
      "execution_count": 31,
      "outputs": [
        {
          "output_type": "execute_result",
          "data": {
            "text/plain": [
              "[9, 10, 15, 30, 33, 37, 26]"
            ]
          },
          "metadata": {
            "tags": []
          },
          "execution_count": 31
        }
      ]
    },
    {
      "cell_type": "code",
      "metadata": {
        "colab": {
          "base_uri": "https://localhost:8080/"
        },
        "id": "nRz75oA3OhqW",
        "outputId": "5b5d5c3a-4b07-44bb-e73f-792a230f542b"
      },
      "source": [
        "from bs4 import BeautifulSoup\r\n",
        "import requests\r\n",
        "total = []\r\n",
        "current_number = int(html.find('a', attrs={'class':'_lotto-btn-current'}).find('em').text[:-1])\r\n",
        "\r\n",
        "for n in range(1, 5):\r\n",
        "  url = requests.get('https://search.naver.com/search.naver?sm=tab_drt&where=nexearch&query={}%ED%9A%8C%EB%A1%9C%EB%98%90'.format(n)).text\r\n",
        "  html = BeautifulSoup(url)\r\n",
        "\r\n",
        "  numbers = html.find('div', attrs={'class':'num_box'}).find_all('span')\r\n",
        "  del numbers[6]\r\n",
        "  box = []\r\n",
        "  for i in numbers:\r\n",
        "    box.append(int(i.text)) \r\n",
        "  total.append(box)\r\n",
        "  print(\"{}회 로또 번호 : {}\".format(n,box))\r\n",
        "  total"
      ],
      "execution_count": 34,
      "outputs": [
        {
          "output_type": "stream",
          "text": [
            "1회 로또 번호 : [10, 23, 29, 33, 37, 40, 16]\n",
            "2회 로또 번호 : [9, 13, 21, 25, 32, 42, 2]\n",
            "3회 로또 번호 : [11, 16, 19, 21, 27, 31, 30]\n",
            "4회 로또 번호 : [14, 27, 30, 31, 40, 42, 2]\n"
          ],
          "name": "stdout"
        }
      ]
    },
    {
      "cell_type": "code",
      "metadata": {
        "id": "5zdKZKwJSEp_"
      },
      "source": [
        "import pandas as pd\r\n",
        "\r\n",
        "total_df = []\r\n",
        "\r\n",
        "for i in total:\r\n",
        "  df = pd.DataFrame({\r\n",
        "      \"첫번째 번호\": [i[0]],\r\n",
        "      \"두번째 번호\": [i[1]],\r\n",
        "      \"세번째 번호\": [i[2]],\r\n",
        "      \"네번째 번호\": [i[3]],\r\n",
        "      \"다섯번째 번호\": [i[4]],\r\n",
        "      \"여섯번째 번호\": [i[5]],\r\n",
        "      \"보너스 번호\": [i[6]],\r\n",
        "  })\r\n",
        "  total_df.append(df)\r\n",
        "\r\n",
        "a = pd.concat(total_df,ignore_index=True)\r\n",
        "a.to_excel('lotto.xlsx')"
      ],
      "execution_count": 40,
      "outputs": []
    },
    {
      "cell_type": "code",
      "metadata": {
        "id": "ZNJYJKewToT_"
      },
      "source": [
        ""
      ],
      "execution_count": null,
      "outputs": []
    }
  ]
}