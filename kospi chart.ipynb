{
  "nbformat": 4,
  "nbformat_minor": 0,
  "metadata": {
    "colab": {
      "name": "Untitled1.ipynb",
      "provenance": [],
      "authorship_tag": "ABX9TyPQlqPQIk4mqlwS7QvagYGg",
      "include_colab_link": true
    },
    "kernelspec": {
      "name": "python3",
      "display_name": "Python 3"
    }
  },
  "cells": [
    {
      "cell_type": "markdown",
      "metadata": {
        "id": "view-in-github",
        "colab_type": "text"
      },
      "source": [
        "<a href=\"https://colab.research.google.com/github/NoMelonMelonBread/nomelon/blob/NoMelonMelonBread-inha-assignments/kospi%20chart.ipynb\" target=\"_parent\"><img src=\"https://colab.research.google.com/assets/colab-badge.svg\" alt=\"Open In Colab\"/></a>"
      ]
    },
    {
      "cell_type": "code",
      "metadata": {
        "colab": {
          "base_uri": "https://localhost:8080/"
        },
        "id": "zI8ChQjrVDB_",
        "outputId": "2ff99143-089b-4695-a7b1-6e666b99b218"
      },
      "source": [
        "from bs4 import BeautifulSoup\r\n",
        "import requests\r\n",
        "import pandas as pd\r\n",
        "from tqdm import tqdm\r\n",
        "\r\n",
        "url = requests.get(\"https://finance.naver.com/sise/sise_market_sum.nhn?sosok=0\").text\r\n",
        "html = BeautifulSoup(url)\r\n",
        "\r\n",
        "kospi_page = int(html.find('td', attrs={'class':'pgRR'}).find('a')['href'][-2:])\r\n",
        "kospi_total = []\r\n",
        "\r\n",
        "for i in tqdm(range(1,kospi_page+1)):\r\n",
        "  url = requests.get(\"https://finance.naver.com/sise/sise_market_sum.nhn?sosok=0&page={}\".format(i)).text\r\n",
        "  html = BeautifulSoup(url)\r\n",
        "\r\n",
        "  table_1 = html.find('table', attrs={'class':'type_2'})\r\n",
        "  a = pd.read_html(str(table_1))[0]\r\n",
        "  kospi_total.append(a)\r\n",
        "  kospi_total\r\n",
        "  result = pd.concat(kospi_total)\r\n",
        "  result"
      ],
      "execution_count": 21,
      "outputs": [
        {
          "output_type": "stream",
          "text": [
            "100%|██████████| 32/32 [00:29<00:00,  1.09it/s]\n"
          ],
          "name": "stderr"
        }
      ]
    },
    {
      "cell_type": "code",
      "metadata": {
        "id": "-sLMaEI4VOVB"
      },
      "source": [
        ""
      ],
      "execution_count": null,
      "outputs": []
    }
  ]
}